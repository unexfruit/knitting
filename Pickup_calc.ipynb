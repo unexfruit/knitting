{
  "cells": [
    {
      "cell_type": "markdown",
      "id": "6aa55370",
      "metadata": {
        "id": "6aa55370"
      },
      "source": [
        "# Pick up calculator"
      ]
    },
    {
      "cell_type": "markdown",
      "source": [
        "**IMPORTANT**\n",
        "\n",
        "You'll need a google account to run this tool. When you see the warning notice, please, click **Run anyway**. Or you can copy the doc to your Drive.\n",
        "\n"
      ],
      "metadata": {
        "id": "DgYIRPyeL2fo"
      },
      "id": "DgYIRPyeL2fo"
    },
    {
      "cell_type": "markdown",
      "source": [
        "## Table of contents:"
      ],
      "metadata": {
        "id": "3auGWgbtRGLb"
      },
      "id": "3auGWgbtRGLb"
    },
    {
      "cell_type": "markdown",
      "source": [
        ">[Overview](#scrollTo=y5S0jG_7Q0zm)\n",
        "\n",
        ">[Your gauge](#scrollTo=947b3082)\n",
        "\n",
        ">[Calculating](#scrollTo=45f9c16c)\n",
        "\n",
        ">>[Your raw nubers](#scrollTo=6ac8b0be)\n",
        "\n",
        ">>[The sequence](#scrollTo=959f892e)\n",
        "\n",
        ">[The counter](#scrollTo=a6e5a58a)\n",
        "\n"
      ],
      "metadata": {
        "colab_type": "toc",
        "id": "r1t75nQpFxPj"
      },
      "id": "r1t75nQpFxPj"
    },
    {
      "cell_type": "markdown",
      "source": [
        "## Overview"
      ],
      "metadata": {
        "id": "y5S0jG_7Q0zm"
      },
      "id": "y5S0jG_7Q0zm"
    },
    {
      "cell_type": "markdown",
      "id": "9a75411d",
      "metadata": {
        "id": "9a75411d"
      },
      "source": [
        "This is the calculator that helps you with picking up the sts for the:\n",
        "- drop-shoulder sleeves,\n",
        "- buttonbands,\n",
        "- maybe something else i didn't think of...\n",
        "\n",
        "Basically, this tool works if you have a vertical edge (of rows) and you need to pick up in horizontal manner (sts). Firstly, in the outputs it will tell you an approximate number of:\n",
        "- rows in your existing pick up edge,\n",
        "- sts you need to pick up in total,\n",
        "- sts not to pick up in between.\n",
        "\n",
        "Then it calculates the sequence of:\n",
        "- sts after you'll need to skip (a sequential number of every stitch you'll be picking up between the skips) - *hidden by default*,\n",
        "- amount of sts to pick up in between each skip.\n",
        "\n",
        "*Please, run all cells in the order they are presented.*\n",
        "\n",
        "**Please, run the cell below.**"
      ]
    },
    {
      "cell_type": "code",
      "execution_count": null,
      "id": "ddc4243a",
      "metadata": {
        "id": "ddc4243a"
      },
      "outputs": [],
      "source": [
        "import numpy as np\n",
        "import matplotlib.pyplot as plt"
      ]
    },
    {
      "cell_type": "markdown",
      "id": "947b3082",
      "metadata": {
        "id": "947b3082"
      },
      "source": [
        "## Your gauge"
      ]
    },
    {
      "cell_type": "markdown",
      "id": "f73e1159",
      "metadata": {
        "id": "f73e1159"
      },
      "source": [
        "Please enter your gauge below.\n",
        "\n",
        "Directions:\n",
        "1. Measure the stitch gauge of the pattern you'll be knitting (e.g. stockinette for the sleeves, rib for the buttonband, etc.). You'll need the number of sts per 10 cm.\n",
        "2. Enter this number after ` sts_gauge = ` .\n",
        "3. Measure the row gauge of the piece from which you are picking up (e.g. stockinette body). You'll need the number of rows per 10 cm.\n",
        "4. Enter this number after  ` row_gauge = ` .\n",
        "5. Measure the length of your edge in cm.\n",
        "6. Enter this number after  ` edge_cm = ` .\n",
        "7. Run the cell.\n",
        "\n",
        "By default there is an *example gauge* of 19.5 sts * 27 rows. The edge *in the example* is 43 cm."
      ]
    },
    {
      "cell_type": "code",
      "execution_count": null,
      "id": "55c1f4ff",
      "metadata": {
        "id": "55c1f4ff"
      },
      "outputs": [],
      "source": [
        "# you need to enter your gauge and the length of the edge you're picking up from\n",
        "sts_gauge = 19.5\n",
        "row_gauge = 27\n",
        "edge_cm = 43"
      ]
    },
    {
      "cell_type": "markdown",
      "id": "45f9c16c",
      "metadata": {
        "id": "45f9c16c"
      },
      "source": [
        "## Calculating"
      ]
    },
    {
      "cell_type": "markdown",
      "id": "6ac8b0be",
      "metadata": {
        "id": "6ac8b0be"
      },
      "source": [
        "### Your raw nubers"
      ]
    },
    {
      "cell_type": "markdown",
      "id": "0fdebfca",
      "metadata": {
        "id": "0fdebfca"
      },
      "source": [
        "Please, run the cell below to see your row number of rows of the edge, sts to pick up and skips between the picked sts."
      ]
    },
    {
      "cell_type": "code",
      "execution_count": null,
      "id": "1afbc333",
      "metadata": {
        "colab": {
          "base_uri": "https://localhost:8080/"
        },
        "id": "1afbc333",
        "outputId": "4bc140e0-4b95-4d03-cfaa-b871f95a7065"
      },
      "outputs": [
        {
          "output_type": "stream",
          "name": "stdout",
          "text": [
            "You need to pick up 84 sts per 116 rows. This results in 32 skips.\n"
          ]
        }
      ],
      "source": [
        "# this counts amount of sts and rows per cm\n",
        "sts_cm = sts_gauge / 10\n",
        "row_cm = row_gauge / 10\n",
        "\n",
        "# this counts the length of your pick up edge in rows and sts from your gauge\n",
        "cm_to_row = round(row_cm * edge_cm)\n",
        "cm_to_sts = round(sts_cm * edge_cm)\n",
        "\n",
        "# the amount of sts to not pick up from the edge\n",
        "skips = cm_to_row - cm_to_sts\n",
        "\n",
        "print(f'You need to pick up {cm_to_sts} sts per {cm_to_row} rows. This results in {skips} skips.')"
      ]
    },
    {
      "cell_type": "markdown",
      "id": "959f892e",
      "metadata": {
        "id": "959f892e"
      },
      "source": [
        "### The sequence"
      ]
    },
    {
      "cell_type": "markdown",
      "id": "7efe8d27",
      "metadata": {
        "id": "7efe8d27"
      },
      "source": [
        "Please, run the cell below to see the sequence of numbers that represents the amount of picked up sts in between each skip.\n",
        "\n",
        "You can also uncomment the line that will show you a sequential number of every stitch you'll be picking up between the skips."
      ]
    },
    {
      "cell_type": "code",
      "execution_count": null,
      "id": "14e74640",
      "metadata": {
        "scrolled": true,
        "colab": {
          "base_uri": "https://localhost:8080/"
        },
        "id": "14e74640",
        "outputId": "1cbabf79-c860-420d-f63a-87448dadb580"
      },
      "outputs": [
        {
          "output_type": "stream",
          "name": "stdout",
          "text": [
            "Sts to knit between each skip: [3 2 3 3 3 2 3 3 2 3 3 3 2 3 3 2 3 3 2 3 3 3 2 3 3 2 3 3 3 2 3]\n",
            "\n",
            "The spaces between numbers represent the skipped sts. \n",
            "You also skip the very last stitch of your edge.\n"
          ]
        }
      ],
      "source": [
        "# placing the skips evenly along the edge\n",
        "# variables make the edge length in sum\n",
        "a=[]\n",
        "for i in np.linspace(0, cm_to_sts, num=skips+2):\n",
        "    a.append(round(i))\n",
        "# this is the sequence number of every stitch you'll be picking up between the skips\n",
        "# uncomment (delete '# ') below if you want to see them\n",
        "# print(a)\n",
        "\n",
        "# finding out how many sts to pick up before each skip\n",
        "knit = np.diff(a)\n",
        "print(\"Sts to knit between each skip:\", knit)\n",
        "print(\"\\nThe spaces between numbers represent the skipped sts. \\")"
      ]
    },
    {
      "cell_type": "markdown",
      "id": "a6e5a58a",
      "metadata": {
        "id": "a6e5a58a"
      },
      "source": [
        "## The counter"
      ]
    },
    {
      "cell_type": "markdown",
      "id": "75eb3750",
      "metadata": {
        "id": "75eb3750"
      },
      "source": [
        "If you'd like you could use the counter below to show you the amount of sts to pick up in each moment (between the skips) and your progress through this process."
      ]
    },
    {
      "cell_type": "code",
      "execution_count": null,
      "id": "bb51f806",
      "metadata": {
        "id": "bb51f806"
      },
      "outputs": [],
      "source": [
        "# place in the array 'knit'\n",
        "to_knit = 0"
      ]
    },
    {
      "cell_type": "code",
      "execution_count": null,
      "id": "5d186bd6",
      "metadata": {
        "colab": {
          "base_uri": "https://localhost:8080/"
        },
        "id": "5d186bd6",
        "outputId": "ddc23e06-2b1e-46ba-d5aa-99d163e34caf"
      },
      "outputs": [
        {
          "output_type": "stream",
          "name": "stdout",
          "text": [
            "Pick up:  2\n",
            "\n",
            "You've picked up:\n",
            "5 / 84 sts\n"
          ]
        }
      ],
      "source": [
        "# by running this piece you can output \n",
        "# the needed amount of sts to knit before the skip right now \n",
        "# and where you are in the picking up sequence\n",
        "if to_knit<len(knit):\n",
        "    print(\"Pick up: \", knit[to_knit])\n",
        "    to_knit += 1\n",
        "    print(\"\\nYou've picked up:\")\n",
        "    print(a[to_knit], \"/\", cm_to_sts, \"sts\")\n",
        "#    print(to_knit, \"/\", len(knit))\n",
        "else:\n",
        "    print(\"Done!\")"
      ]
    }
  ],
  "metadata": {
    "kernelspec": {
      "display_name": "Python 3 (ipykernel)",
      "language": "python",
      "name": "python3"
    },
    "language_info": {
      "codemirror_mode": {
        "name": "ipython",
        "version": 3
      },
      "file_extension": ".py",
      "mimetype": "text/x-python",
      "name": "python",
      "nbconvert_exporter": "python",
      "pygments_lexer": "ipython3",
      "version": "3.9.7"
    },
    "toc": {
      "base_numbering": 1,
      "nav_menu": {},
      "number_sections": true,
      "sideBar": true,
      "skip_h1_title": true,
      "title_cell": "Table of Contents",
      "title_sidebar": "Contents",
      "toc_cell": false,
      "toc_position": {},
      "toc_section_display": true,
      "toc_window_display": true
    },
    "colab": {
      "provenance": [],
      "toc_visible": true
    }
  },
  "nbformat": 4,
  "nbformat_minor": 5
}
